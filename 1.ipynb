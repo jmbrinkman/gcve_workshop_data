{
 "cells": [
  {
   "cell_type": "code",
   "execution_count": 1,
   "id": "ed05ecd5-260e-4e64-b05e-2cd11f5d846e",
   "metadata": {},
   "outputs": [
    {
     "name": "stdout",
     "output_type": "stream",
     "text": [
      "\n",
      "\u001b[1m[\u001b[0m\u001b[34;49mnotice\u001b[0m\u001b[1;39;49m]\u001b[0m\u001b[39;49m A new release of pip is available: \u001b[0m\u001b[31;49m23.2.1\u001b[0m\u001b[39;49m -> \u001b[0m\u001b[32;49m23.3\u001b[0m\n",
      "\u001b[1m[\u001b[0m\u001b[34;49mnotice\u001b[0m\u001b[1;39;49m]\u001b[0m\u001b[39;49m To update, run: \u001b[0m\u001b[32;49mpip install --upgrade pip\u001b[0m\n"
     ]
    }
   ],
   "source": [
    "! pip3 install --upgrade --quiet google-cloud-aiplatform"
   ]
  },
  {
   "cell_type": "code",
   "execution_count": 17,
   "id": "958dc4c6-b034-4456-932b-a63745ba9e0b",
   "metadata": {},
   "outputs": [],
   "source": [
    "from multiprocessing import Pool"
   ]
  },
  {
   "cell_type": "code",
   "execution_count": null,
   "id": "28a4d3cd-8c1a-4def-a52c-60f2f49f7b45",
   "metadata": {},
   "outputs": [],
   "source": []
  },
  {
   "cell_type": "code",
   "execution_count": 54,
   "id": "91dcc4c4-c830-4841-a3d3-296420e89bd0",
   "metadata": {},
   "outputs": [],
   "source": [
    "from google.cloud import aiplatform"
   ]
  },
  {
   "cell_type": "code",
   "execution_count": 58,
   "id": "651706fe-6a3e-41e7-bfc7-45a6677e6670",
   "metadata": {},
   "outputs": [],
   "source": [
    "# The spec of the worker pools including machine type and Docker image\n",
    "# Be sure to replace PROJECT_ID in the \"image_uri\" with your project.\n",
    "\n",
    "worker_pool_specs=[\n",
    "     {\n",
    "        \"replica_count\": 1,\n",
    "        \"machine_spec\": {\n",
    "          \"machine_type\": \"n1-standard-4\",\n",
    "        },\n",
    "        \"container_spec\": {\"image_uri\": \"europe-west4-docker.pkg.dev/PROJECT_NAME/flower-app/flower_image_distributed:multi_machine\"}\n",
    "      },\n",
    "      {\n",
    "        \"replica_count\": 15,\n",
    "        \"machine_spec\": {\n",
    "          \"machine_type\": \"n1-standard-4\",\n",
    "        },\n",
    "        \"container_spec\": {\"image_uri\": \"europe-west4-docker.pkg.dev/PROJECT_NAME/flower-app/flower_image_distributed:multi_machine\"}\n",
    "      }\n",
    "          ]"
   ]
  },
  {
   "cell_type": "code",
   "execution_count": null,
   "id": "238d6a49-c004-49d3-8498-953664ac04a0",
   "metadata": {},
   "outputs": [],
   "source": [
    "my_custom_job = aiplatform.CustomJob(display_name='flowers-multi-worker',\n",
    "                                     location='europe-west4',\n",
    "                                     worker_pool_specs=worker_pool_specs,\n",
    "                                     staging_bucket='gs://PROJECT_NAME-bucket2')\n",
    "\n",
    "my_custom_job.run(network = 'projects/PROJECT_ID/global/networks/test2') "
   ]
  },
  {
   "cell_type": "code",
   "execution_count": null,
   "id": "9ffa3c12-650c-4e76-9805-cfd35f2ef27d",
   "metadata": {},
   "outputs": [],
   "source": [
    "my_custom_job.delete()"
   ]
  },
  {
   "cell_type": "code",
   "execution_count": null,
   "id": "fbb1d540-b322-4c89-91b0-69569480b0f9",
   "metadata": {},
   "outputs": [],
   "source": []
  }
 ],
 "metadata": {
  "environment": {
   "kernel": "python3",
   "name": "common-cpu.m109",
   "type": "gcloud",
   "uri": "gcr.io/deeplearning-platform-release/base-cpu:m109"
  },
  "kernelspec": {
   "display_name": "Python 3",
   "language": "python",
   "name": "python3"
  },
  "language_info": {
   "codemirror_mode": {
    "name": "ipython",
    "version": 3
   },
   "file_extension": ".py",
   "mimetype": "text/x-python",
   "name": "python",
   "nbconvert_exporter": "python",
   "pygments_lexer": "ipython3",
   "version": "3.10.11"
  }
 },
 "nbformat": 4,
 "nbformat_minor": 5
}
